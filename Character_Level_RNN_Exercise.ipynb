{
 "cells": [
  {
   "cell_type": "markdown",
   "metadata": {},
   "source": [
    "# Character-Level LSTM in PyTorch\n",
    "\n",
    "In this notebook, I'll construct a character-level LSTM with PyTorch. The network will train character by character on some text, then generate new text character by character. As an example, I will train on Anna Karenina. **This model will be able to generate new text based on the text from the book!**\n",
    "\n",
    "This network is based off of Andrej Karpathy's [post on RNNs](http://karpathy.github.io/2015/05/21/rnn-effectiveness/) and [implementation in Torch](https://github.com/karpathy/char-rnn). Below is the general architecture of the character-wise RNN.\n",
    "\n",
    "<img src=\"assets/charseq.jpeg\" width=\"500\">"
   ]
  },
  {
   "cell_type": "markdown",
   "metadata": {},
   "source": [
    "First let's load in our required resources for data loading and model creation."
   ]
  },
  {
   "cell_type": "code",
   "execution_count": 1,
   "metadata": {},
   "outputs": [],
   "source": [
    "import numpy as np\n",
    "import torch\n",
    "from torch import nn\n",
    "import torch.nn.functional as F"
   ]
  },
  {
   "cell_type": "markdown",
   "metadata": {},
   "source": [
    "## Load in Data\n",
    "\n",
    "Then, we'll load the Anna Karenina text file and convert it into integers for our network to use. "
   ]
  },
  {
   "cell_type": "code",
   "execution_count": 3,
   "metadata": {},
   "outputs": [],
   "source": [
    "# open text file and read in data as `text`\n",
    "with open('data/anna.txt', 'r') as f:\n",
    "    text = f.read()"
   ]
  },
  {
   "cell_type": "markdown",
   "metadata": {},
   "source": [
    "Let's check out the first 100 characters, make sure everything is peachy. According to the [American Book Review](http://americanbookreview.org/100bestlines.asp), this is the 6th best first line of a book ever."
   ]
  },
  {
   "cell_type": "code",
   "execution_count": 4,
   "metadata": {},
   "outputs": [
    {
     "data": {
      "text/plain": [
       "'Chapter 1\\n\\n\\nHappy families are all alike; every unhappy family is unhappy in its own\\nway.\\n\\nEverythin'"
      ]
     },
     "execution_count": 4,
     "metadata": {},
     "output_type": "execute_result"
    }
   ],
   "source": [
    "text[:100]"
   ]
  },
  {
   "cell_type": "markdown",
   "metadata": {},
   "source": [
    "### Tokenization\n",
    "\n",
    "In the cells, below, I'm creating a couple **dictionaries** to convert the characters to and from integers. Encoding the characters as integers makes it easier to use as input in the network."
   ]
  },
  {
   "cell_type": "code",
   "execution_count": 5,
   "metadata": {},
   "outputs": [],
   "source": [
    "# encode the text and map each character to an integer and vice versa\n",
    "\n",
    "# we create two dictionaries:\n",
    "# 1. int2char, which maps integers to characters\n",
    "# 2. char2int, which maps characters to unique integers\n",
    "chars = tuple(set(text))\n",
    "int2char = dict(enumerate(chars))\n",
    "char2int = {ch: ii for ii, ch in int2char.items()}\n",
    "\n",
    "# encode the text\n",
    "encoded = np.array([char2int[ch] for ch in text])"
   ]
  },
  {
   "cell_type": "markdown",
   "metadata": {},
   "source": [
    "And we can see those same characters from above, encoded as integers."
   ]
  },
  {
   "cell_type": "code",
   "execution_count": 14,
   "metadata": {},
   "outputs": [
    {
     "data": {
      "text/plain": [
       "50"
      ]
     },
     "execution_count": 14,
     "metadata": {},
     "output_type": "execute_result"
    }
   ],
   "source": [
    "char2int['a']"
   ]
  },
  {
   "cell_type": "code",
   "execution_count": 5,
   "metadata": {},
   "outputs": [
    {
     "data": {
      "text/plain": [
       "array([23, 82, 25, 16, 24, 58, 48, 51,  5, 45, 45, 45,  2, 25, 16, 16, 77,\n",
       "       51, 76, 25, 35, 57, 71, 57, 58, 18, 51, 25, 48, 58, 51, 25, 71, 71,\n",
       "       51, 25, 71, 57, 66, 58, 55, 51, 58, 27, 58, 48, 77, 51, 44, 74, 82,\n",
       "       25, 16, 16, 77, 51, 76, 25, 35, 57, 71, 77, 51, 57, 18, 51, 44, 74,\n",
       "       82, 25, 16, 16, 77, 51, 57, 74, 51, 57, 24, 18, 51, 79, 14, 74, 45,\n",
       "       14, 25, 77, 42, 45, 45, 12, 27, 58, 48, 77, 24, 82, 57, 74])"
      ]
     },
     "execution_count": 5,
     "metadata": {},
     "output_type": "execute_result"
    }
   ],
   "source": [
    "encoded[:100]"
   ]
  },
  {
   "cell_type": "markdown",
   "metadata": {},
   "source": [
    "## Pre-processing the data\n",
    "\n",
    "As you can see in our char-RNN image above, our LSTM expects an input that is **one-hot encoded** meaning that each character is converted into an integer (via our created dictionary) and *then* converted into a column vector where only it's corresponding integer index will have the value of 1 and the rest of the vector will be filled with 0's. Since we're one-hot encoding the data, let's make a function to do that!\n"
   ]
  },
  {
   "cell_type": "code",
   "execution_count": 16,
   "metadata": {},
   "outputs": [],
   "source": [
    "def one_hot_encode(arr, n_labels):\n",
    "    \n",
    "    # Initialize the the encoded array\n",
    "    one_hot = np.zeros((np.multiply(*arr.shape), n_labels), dtype=np.float32)\n",
    "    \n",
    "    # Fill the appropriate elements with ones\n",
    "    one_hot[np.arange(one_hot.shape[0]), arr.flatten()] = 1.\n",
    "    \n",
    "    # Finally reshape it to get back to the original array\n",
    "    one_hot = one_hot.reshape((*arr.shape, n_labels))\n",
    "    \n",
    "    return one_hot"
   ]
  },
  {
   "cell_type": "code",
   "execution_count": 63,
   "metadata": {},
   "outputs": [
    {
     "data": {
      "text/plain": [
       "array([[ 0.,  0.,  0.,  0.,  1.,  0.,  1.,  0.],\n",
       "       [ 0.,  0.,  0.,  0.,  0.,  0.,  0.,  1.],\n",
       "       [ 0.,  0.,  0.,  0.,  0.,  0.,  0.,  0.]], dtype=float32)"
      ]
     },
     "execution_count": 63,
     "metadata": {},
     "output_type": "execute_result"
    }
   ],
   "source": [
    "one_hot"
   ]
  },
  {
   "cell_type": "code",
   "execution_count": 65,
   "metadata": {},
   "outputs": [
    {
     "data": {
      "text/plain": [
       "array([[[ 0.,  0.,  0.,  0.,  1.,  0.,  1.,  0.],\n",
       "        [ 0.,  0.,  0.,  0.,  0.,  0.,  0.,  1.],\n",
       "        [ 0.,  0.,  0.,  0.,  0.,  0.,  0.,  0.]]], dtype=float32)"
      ]
     },
     "execution_count": 65,
     "metadata": {},
     "output_type": "execute_result"
    }
   ],
   "source": [
    "one_hot.reshape((*test_seq.shape, 8))"
   ]
  },
  {
   "cell_type": "code",
   "execution_count": 34,
   "metadata": {},
   "outputs": [],
   "source": [
    "one_hot[np.arange(one_hot.shape[0]), test_seq.flatten()]=1"
   ]
  },
  {
   "cell_type": "code",
   "execution_count": 18,
   "metadata": {},
   "outputs": [
    {
     "name": "stdout",
     "output_type": "stream",
     "text": [
      "[[[ 0.  0.  0.  1.  0.  0.  0.  0.]\n",
      "  [ 0.  0.  0.  0.  0.  1.  0.  0.]\n",
      "  [ 0.  1.  0.  0.  0.  0.  0.  0.]]]\n"
     ]
    }
   ],
   "source": [
    "# check that the function works as expected\n",
    "test_seq = np.array([[3, 5, 1]])\n",
    "one_hot = one_hot_encode(test_seq, 8)\n",
    "\n",
    "print(one_hot)"
   ]
  },
  {
   "cell_type": "markdown",
   "metadata": {},
   "source": [
    "## Making training mini-batches\n",
    "\n",
    "\n",
    "To train on this data, we also want to create mini-batches for training. Remember that we want our batches to be multiple sequences of some desired number of sequence steps. Considering a simple example, our batches would look like this:\n",
    "\n",
    "<img src=\"assets/sequence_batching@1x.png\" width=500px>\n",
    "\n",
    "\n",
    "<br>\n",
    "\n",
    "In this example, we'll take the encoded characters (passed in as the `arr` parameter) and split them into multiple sequences, given by `batch_size`. Each of our sequences will be `seq_length` long.\n",
    "\n",
    "### Creating Batches\n",
    "\n",
    "**1. The first thing we need to do is discard some of the text so we only have completely full mini-batches. **\n",
    "\n",
    "Each batch contains $N \\times M$ characters, where $N$ is the batch size (the number of sequences in a batch) and $M$ is the seq_length or number of time steps in a sequence. Then, to get the total number of batches, $K$, that we can make from the array `arr`, you divide the length of `arr` by the number of characters per batch. Once you know the number of batches, you can get the total number of characters to keep from `arr`, $N * M * K$.\n",
    "\n",
    "**2. After that, we need to split `arr` into $N$ batches. ** \n",
    "\n",
    "You can do this using `arr.reshape(size)` where `size` is a tuple containing the dimensions sizes of the reshaped array. We know we want $N$ sequences in a batch, so let's make that the size of the first dimension. For the second dimension, you can use `-1` as a placeholder in the size, it'll fill up the array with the appropriate data for you. After this, you should have an array that is $N \\times (M * K)$.\n",
    "\n",
    "**3. Now that we have this array, we can iterate through it to get our mini-batches. **\n",
    "\n",
    "The idea is each batch is a $N \\times M$ window on the $N \\times (M * K)$ array. For each subsequent batch, the window moves over by `seq_length`. We also want to create both the input and target arrays. Remember that the targets are just the inputs shifted over by one character. The way I like to do this window is use `range` to take steps of size `n_steps` from $0$ to `arr.shape[1]`, the total number of tokens in each sequence. That way, the integers you get from `range` always point to the start of a batch, and each window is `seq_length` wide.\n",
    "\n",
    "> **TODO:** Write the code for creating batches in the function below. The exercises in this notebook _will not be easy_. I've provided a notebook with solutions alongside this notebook. If you get stuck, checkout the solutions. The most important thing is that you don't copy and paste the code into here, **type out the solution code yourself.**"
   ]
  },
  {
   "cell_type": "code",
   "execution_count": 99,
   "metadata": {},
   "outputs": [],
   "source": [
    "def get_batches(arr, batch_size, seq_length):\n",
    "    '''Create a generator that returns batches of size\n",
    "       batch_size x seq_length from arr.\n",
    "       \n",
    "       Arguments\n",
    "       ---------\n",
    "       arr: Array you want to make batches from\n",
    "       batch_size: Batch size, the number of sequences per batch\n",
    "       seq_length: Number of encoded chars in a sequence\n",
    "    '''\n",
    "    ## TODO: Get the number of batches we can make\n",
    "    n_batches = len(arr) // (batch_size * seq_length) \n",
    "    \n",
    "    ## TODO: Keep only enough characters to make full batches\n",
    "    arr = arr[:batch_size * seq_length * n_batches]\n",
    "    \n",
    "    ## TODO: Reshape into batch_size rows\n",
    "    arr = arr.reshape((batch_size, -1))\n",
    "    \n",
    "    ## TODO: Iterate over the batches using a window of size seq_length\n",
    "    for n in range(0, arr.shape[1], seq_length):\n",
    "        # The features\n",
    "        x = arr[:, n:n+seq_length]\n",
    "        # The targets, shifted by one\n",
    "        y = np.zeros_like(x)\n",
    "        try:\n",
    "            y[:, :-1], y[:, -1] = x[:, 1:], arr[:, n+seq_length]\n",
    "        except:\n",
    "            y[:, :-1], y[:, -1] = x[:, 1:], arr[:, 0]\n",
    "        yield x, y"
   ]
  },
  {
   "cell_type": "code",
   "execution_count": 100,
   "metadata": {},
   "outputs": [
    {
     "data": {
      "text/plain": [
       "array([[ 0.,  1.,  2.],\n",
       "       [ 0.,  1.,  2.],\n",
       "       [ 0.,  1.,  2.]])"
      ]
     },
     "execution_count": 100,
     "metadata": {},
     "output_type": "execute_result"
    }
   ],
   "source": [
    "y = np.zeros((3,4))\n",
    "y[:,1] = 1\n",
    "y[:,2] = 2\n",
    "y[:,3] = 3\n",
    "y[:,:-1]"
   ]
  },
  {
   "cell_type": "markdown",
   "metadata": {},
   "source": [
    "### Test Your Implementation\n",
    "\n",
    "Now I'll make some data sets and we can check out what's going on as we batch data. Here, as an example, I'm going to use a batch size of 8 and 50 sequence steps."
   ]
  },
  {
   "cell_type": "code",
   "execution_count": 101,
   "metadata": {},
   "outputs": [],
   "source": [
    "batches = get_batches(encoded, 8, 50)\n",
    "x, y = next(batches)"
   ]
  },
  {
   "cell_type": "code",
   "execution_count": 102,
   "metadata": {},
   "outputs": [
    {
     "name": "stdout",
     "output_type": "stream",
     "text": [
      "x\n",
      " [[ 1 71 50 42 61 22 15 20 51 69]\n",
      " [18  2 23 20 61 71 50 61 20 50]\n",
      " [22 23 25 20  2 15 20 50 20  7]\n",
      " [18 20 61 71 22 20 26 71 72 22]\n",
      " [20 18 50 17 20 71 22 15 20 61]\n",
      " [26 76 18 18 72  2 23 20 50 23]\n",
      " [20 33 23 23 50 20 71 50 25 20]\n",
      " [10 81 74  2 23 18 75 32 70 20]]\n",
      "\n",
      "y\n",
      " [[71 50 42 61 22 15 20 51 69 69]\n",
      " [ 2 23 20 61 71 50 61 20 50 61]\n",
      " [23 25 20  2 15 20 50 20  7  2]\n",
      " [20 61 71 22 20 26 71 72 22  7]\n",
      " [18 50 17 20 71 22 15 20 61 22]\n",
      " [76 18 18 72  2 23 20 50 23 25]\n",
      " [33 23 23 50 20 71 50 25 20 18]\n",
      " [81 74  2 23 18 75 32 70 20 34]]\n"
     ]
    }
   ],
   "source": [
    "# printing out the first 10 items in a sequence\n",
    "print('x\\n', x[:10, :10])\n",
    "print('\\ny\\n', y[:10, :10])"
   ]
  },
  {
   "cell_type": "markdown",
   "metadata": {},
   "source": [
    "If you implemented `get_batches` correctly, the above output should look something like \n",
    "```\n",
    "x\n",
    " [[25  8 60 11 45 27 28 73  1  2]\n",
    " [17  7 20 73 45  8 60 45 73 60]\n",
    " [27 20 80 73  7 28 73 60 73 65]\n",
    " [17 73 45  8 27 73 66  8 46 27]\n",
    " [73 17 60 12 73  8 27 28 73 45]\n",
    " [66 64 17 17 46  7 20 73 60 20]\n",
    " [73 76 20 20 60 73  8 60 80 73]\n",
    " [47 35 43  7 20 17 24 50 37 73]]\n",
    "\n",
    "y\n",
    " [[ 8 60 11 45 27 28 73  1  2  2]\n",
    " [ 7 20 73 45  8 60 45 73 60 45]\n",
    " [20 80 73  7 28 73 60 73 65  7]\n",
    " [73 45  8 27 73 66  8 46 27 65]\n",
    " [17 60 12 73  8 27 28 73 45 27]\n",
    " [64 17 17 46  7 20 73 60 20 80]\n",
    " [76 20 20 60 73  8 60 80 73 17]\n",
    " [35 43  7 20 17 24 50 37 73 36]]\n",
    " ```\n",
    " although the exact numbers may be different. Check to make sure the data is shifted over one step for `y`."
   ]
  },
  {
   "cell_type": "markdown",
   "metadata": {},
   "source": [
    "---\n",
    "## Defining the network with PyTorch\n",
    "\n",
    "Below is where you'll define the network.\n",
    "\n",
    "<img src=\"assets/charRNN.png\" width=500px>\n",
    "\n",
    "Next, you'll use PyTorch to define the architecture of the network. We start by defining the layers and operations we want. Then, define a method for the forward pass. You've also been given a method for predicting characters."
   ]
  },
  {
   "cell_type": "markdown",
   "metadata": {},
   "source": [
    "### Model Structure\n",
    "\n",
    "In `__init__` the suggested structure is as follows:\n",
    "* Create and store the necessary dictionaries (this has been done for you)\n",
    "* Define an LSTM layer that takes as params: an input size (the number of characters), a hidden layer size `n_hidden`, a number of layers `n_layers`, a dropout probability `drop_prob`, and a batch_first boolean (True, since we are batching)\n",
    "* Define a dropout layer with `dropout_prob`\n",
    "* Define a fully-connected layer with params: input size `n_hidden` and output size (the number of characters)\n",
    "* Finally, initialize the weights (again, this has been given)\n",
    "\n",
    "Note that some parameters have been named and given in the `__init__` function, and we use them and store them by doing something like `self.drop_prob = drop_prob`."
   ]
  },
  {
   "cell_type": "markdown",
   "metadata": {},
   "source": [
    "---\n",
    "### LSTM Inputs/Outputs\n",
    "\n",
    "You can create a basic [LSTM layer](https://pytorch.org/docs/stable/nn.html#lstm) as follows\n",
    "\n",
    "```python\n",
    "self.lstm = nn.LSTM(input_size, n_hidden, n_layers, \n",
    "                            dropout=drop_prob, batch_first=True)\n",
    "```\n",
    "\n",
    "where `input_size` is the number of characters this cell expects to see as sequential input, and `n_hidden` is the number of units in the hidden layers in the cell. And we can add dropout by adding a dropout parameter with a specified probability; this will automatically add dropout to the inputs or outputs. Finally, in the `forward` function, we can stack up the LSTM cells into layers using `.view`. With this, you pass in a list of cells and it will send the output of one cell into the next cell.\n",
    "\n",
    "We also need to create an initial hidden state of all zeros. This is done like so\n",
    "\n",
    "```python\n",
    "self.init_hidden()\n",
    "```"
   ]
  },
  {
   "cell_type": "code",
   "execution_count": 103,
   "metadata": {},
   "outputs": [
    {
     "name": "stdout",
     "output_type": "stream",
     "text": [
      "Training on GPU!\n"
     ]
    }
   ],
   "source": [
    "# check if GPU is available\n",
    "train_on_gpu = torch.cuda.is_available()\n",
    "if(train_on_gpu):\n",
    "    print('Training on GPU!')\n",
    "else: \n",
    "    print('No GPU available, training on CPU; consider making n_epochs very small.')"
   ]
  },
  {
   "cell_type": "code",
   "execution_count": 104,
   "metadata": {},
   "outputs": [],
   "source": [
    "class CharRNN(nn.Module):\n",
    "    \n",
    "    def __init__(self, tokens, n_hidden=256, n_layers=2,\n",
    "                               drop_prob=0.5, lr=0.001):\n",
    "        super().__init__()\n",
    "        self.drop_prob = drop_prob\n",
    "        self.n_layers = n_layers\n",
    "        self.n_hidden = n_hidden\n",
    "        self.lr = lr\n",
    "        \n",
    "        # creating character dictionaries\n",
    "        self.chars = tokens\n",
    "        self.int2char = dict(enumerate(self.chars))\n",
    "        self.char2int = {ch: ii for ii, ch in self.int2char.items()}\n",
    "        \n",
    "        ## TODO: define the layers of the model\n",
    "        self.lstm = nn.LSTM(len(self.chars), n_hidden, n_layers, dropout=drop_prob, batch_first=True)\n",
    "        self.dropout = nn.Dropout(drop_prob)\n",
    "        self.fc = nn.Linear(n_hidden, len(self.chars))\n",
    "\n",
    "    \n",
    "    def forward(self, x, hidden):\n",
    "        ''' Forward pass through the network. \n",
    "            These inputs are x, and the hidden/cell state `hidden`. '''\n",
    "                \n",
    "        ## TODO: Get the outputs and the new hidden state from the lstm\n",
    "        r_output, hidden = self.lstm(x, hidden)\n",
    "        out = self.dropout(r_output)\n",
    "        # stack up the LSTM outputs\n",
    "        out = out.contiguous().view(-1, self.n_hidden)\n",
    "        out = self.fc(out)\n",
    "        # return the final output and the hidden state\n",
    "        return out, hidden\n",
    "        \n",
    "        \n",
    "        # return the final output and the hidden state\n",
    "        return out, hidden\n",
    "    \n",
    "    \n",
    "    def init_hidden(self, batch_size):\n",
    "        ''' Initializes hidden state '''\n",
    "        # Create two new tensors with sizes n_layers x batch_size x n_hidden,\n",
    "        # initialized to zero, for hidden state and cell state of LSTM\n",
    "        weight = next(self.parameters()).data\n",
    "        \n",
    "        if (train_on_gpu):\n",
    "            hidden = (weight.new(self.n_layers, batch_size, self.n_hidden).zero_().cuda(),\n",
    "                  weight.new(self.n_layers, batch_size, self.n_hidden).zero_().cuda())\n",
    "        else:\n",
    "            hidden = (weight.new(self.n_layers, batch_size, self.n_hidden).zero_(),\n",
    "                      weight.new(self.n_layers, batch_size, self.n_hidden).zero_())\n",
    "        \n",
    "        return hidden\n",
    "        "
   ]
  },
  {
   "cell_type": "markdown",
   "metadata": {},
   "source": [
    "## Time to train\n",
    "\n",
    "The train function gives us the ability to set the number of epochs, the learning rate, and other parameters.\n",
    "\n",
    "Below we're using an Adam optimizer and cross entropy loss since we are looking at character class scores as output. We calculate the loss and perform backpropagation, as usual!\n",
    "\n",
    "A couple of details about training: \n",
    ">* Within the batch loop, we detach the hidden state from its history; this time setting it equal to a new *tuple* variable because an LSTM has a hidden state that is a tuple of the hidden and cell states.\n",
    "* We use [`clip_grad_norm_`](https://pytorch.org/docs/stable/_modules/torch/nn/utils/clip_grad.html) to help prevent exploding gradients."
   ]
  },
  {
   "cell_type": "code",
   "execution_count": 105,
   "metadata": {},
   "outputs": [],
   "source": [
    "def train(net, data, epochs=10, batch_size=10, seq_length=50, lr=0.001, clip=5, val_frac=0.1, print_every=10):\n",
    "    ''' Training a network \n",
    "    \n",
    "        Arguments\n",
    "        ---------\n",
    "        \n",
    "        net: CharRNN network\n",
    "        data: text data to train the network\n",
    "        epochs: Number of epochs to train\n",
    "        batch_size: Number of mini-sequences per mini-batch, aka batch size\n",
    "        seq_length: Number of character steps per mini-batch\n",
    "        lr: learning rate\n",
    "        clip: gradient clipping\n",
    "        val_frac: Fraction of data to hold out for validation\n",
    "        print_every: Number of steps for printing training and validation loss\n",
    "    \n",
    "    '''\n",
    "    net.train()\n",
    "    \n",
    "    opt = torch.optim.Adam(net.parameters(), lr=lr)\n",
    "    criterion = nn.CrossEntropyLoss()\n",
    "    \n",
    "    # create training and validation data\n",
    "    val_idx = int(len(data)*(1-val_frac))\n",
    "    data, val_data = data[:val_idx], data[val_idx:]\n",
    "    \n",
    "    if(train_on_gpu):\n",
    "        net.cuda()\n",
    "    \n",
    "    counter = 0\n",
    "    n_chars = len(net.chars)\n",
    "    for e in range(epochs):\n",
    "        # initialize hidden state\n",
    "        h = net.init_hidden(batch_size)\n",
    "        \n",
    "        for x, y in get_batches(data, batch_size, seq_length):\n",
    "            counter += 1\n",
    "            \n",
    "            # One-hot encode our data and make them Torch tensors\n",
    "            x = one_hot_encode(x, n_chars)\n",
    "            inputs, targets = torch.from_numpy(x), torch.from_numpy(y)\n",
    "            \n",
    "            if(train_on_gpu):\n",
    "                inputs, targets = inputs.cuda(), targets.cuda()\n",
    "\n",
    "            # Creating new variables for the hidden state, otherwise\n",
    "            # we'd backprop through the entire training history\n",
    "            h = tuple([each.data for each in h])\n",
    "\n",
    "            # zero accumulated gradients\n",
    "            net.zero_grad()\n",
    "            \n",
    "            # get the output from the model\n",
    "            output, h = net(inputs, h)\n",
    "            \n",
    "            # calculate the loss and perform backprop\n",
    "            loss = criterion(output, targets.view(batch_size*seq_length))\n",
    "            loss.backward()\n",
    "            # `clip_grad_norm` helps prevent the exploding gradient problem in RNNs / LSTMs.\n",
    "            nn.utils.clip_grad_norm_(net.parameters(), clip)\n",
    "            opt.step()\n",
    "            \n",
    "            # loss stats\n",
    "            if counter % print_every == 0:\n",
    "                # Get validation loss\n",
    "                val_h = net.init_hidden(batch_size)\n",
    "                val_losses = []\n",
    "                net.eval()\n",
    "                for x, y in get_batches(val_data, batch_size, seq_length):\n",
    "                    # One-hot encode our data and make them Torch tensors\n",
    "                    x = one_hot_encode(x, n_chars)\n",
    "                    x, y = torch.from_numpy(x), torch.from_numpy(y)\n",
    "                    \n",
    "                    # Creating new variables for the hidden state, otherwise\n",
    "                    # we'd backprop through the entire training history\n",
    "                    val_h = tuple([each.data for each in val_h])\n",
    "                    \n",
    "                    inputs, targets = x, y\n",
    "                    if(train_on_gpu):\n",
    "                        inputs, targets = inputs.cuda(), targets.cuda()\n",
    "\n",
    "                    output, val_h = net(inputs, val_h)\n",
    "                    val_loss = criterion(output, targets.view(batch_size*seq_length))\n",
    "                \n",
    "                    val_losses.append(val_loss.item())\n",
    "                \n",
    "                net.train() # reset to train mode after iterationg through validation data\n",
    "                \n",
    "                print(\"Epoch: {}/{}...\".format(e+1, epochs),\n",
    "                      \"Step: {}...\".format(counter),\n",
    "                      \"Loss: {:.4f}...\".format(loss.item()),\n",
    "                      \"Val Loss: {:.4f}\".format(np.mean(val_losses)))"
   ]
  },
  {
   "cell_type": "markdown",
   "metadata": {},
   "source": [
    "## Instantiating the model\n",
    "\n",
    "Now we can actually train the network. First we'll create the network itself, with some given hyperparameters. Then, define the mini-batches sizes, and start training!"
   ]
  },
  {
   "cell_type": "code",
   "execution_count": 106,
   "metadata": {},
   "outputs": [
    {
     "name": "stdout",
     "output_type": "stream",
     "text": [
      "CharRNN(\n",
      "  (lstm): LSTM(83, 512, num_layers=2, batch_first=True, dropout=0.5)\n",
      "  (dropout): Dropout(p=0.5)\n",
      "  (fc): Linear(in_features=512, out_features=83, bias=True)\n",
      ")\n"
     ]
    }
   ],
   "source": [
    "## TODO: set you model hyperparameters\n",
    "# define and print the net\n",
    "n_hidden=512\n",
    "n_layers=2\n",
    "\n",
    "net = CharRNN(chars, n_hidden, n_layers)\n",
    "print(net)"
   ]
  },
  {
   "cell_type": "markdown",
   "metadata": {},
   "source": [
    "### Set your training hyperparameters!"
   ]
  },
  {
   "cell_type": "code",
   "execution_count": 107,
   "metadata": {
    "scrolled": true
   },
   "outputs": [
    {
     "name": "stdout",
     "output_type": "stream",
     "text": [
      "Epoch: 1/20... Step: 10... Loss: 3.2602... Val Loss: 3.2099\n",
      "Epoch: 1/20... Step: 20... Loss: 3.1478... Val Loss: 3.1365\n",
      "Epoch: 1/20... Step: 30... Loss: 3.1407... Val Loss: 3.1247\n",
      "Epoch: 1/20... Step: 40... Loss: 3.1115... Val Loss: 3.1202\n",
      "Epoch: 1/20... Step: 50... Loss: 3.1413... Val Loss: 3.1169\n",
      "Epoch: 1/20... Step: 60... Loss: 3.1153... Val Loss: 3.1142\n",
      "Epoch: 1/20... Step: 70... Loss: 3.1043... Val Loss: 3.1114\n",
      "Epoch: 1/20... Step: 80... Loss: 3.1128... Val Loss: 3.1023\n",
      "Epoch: 1/20... Step: 90... Loss: 3.0985... Val Loss: 3.0800\n",
      "Epoch: 1/20... Step: 100... Loss: 3.0496... Val Loss: 3.0307\n",
      "Epoch: 1/20... Step: 110... Loss: 2.9635... Val Loss: 2.9373\n",
      "Epoch: 1/20... Step: 120... Loss: 2.9744... Val Loss: 2.8786\n",
      "Epoch: 1/20... Step: 130... Loss: 2.8130... Val Loss: 2.7665\n",
      "Epoch: 2/20... Step: 140... Loss: 2.7008... Val Loss: 2.6494\n",
      "Epoch: 2/20... Step: 150... Loss: 2.6145... Val Loss: 2.5684\n",
      "Epoch: 2/20... Step: 160... Loss: 2.5528... Val Loss: 2.5146\n",
      "Epoch: 2/20... Step: 170... Loss: 2.4825... Val Loss: 2.4677\n",
      "Epoch: 2/20... Step: 180... Loss: 2.4526... Val Loss: 2.4365\n",
      "Epoch: 2/20... Step: 190... Loss: 2.4050... Val Loss: 2.4048\n",
      "Epoch: 2/20... Step: 200... Loss: 2.3910... Val Loss: 2.3680\n",
      "Epoch: 2/20... Step: 210... Loss: 2.3629... Val Loss: 2.3395\n",
      "Epoch: 2/20... Step: 220... Loss: 2.3237... Val Loss: 2.3098\n",
      "Epoch: 2/20... Step: 230... Loss: 2.3122... Val Loss: 2.2822\n",
      "Epoch: 2/20... Step: 240... Loss: 2.2878... Val Loss: 2.2576\n",
      "Epoch: 2/20... Step: 250... Loss: 2.2182... Val Loss: 2.2247\n",
      "Epoch: 2/20... Step: 260... Loss: 2.1914... Val Loss: 2.1963\n",
      "Epoch: 2/20... Step: 270... Loss: 2.2028... Val Loss: 2.1807\n",
      "Epoch: 3/20... Step: 280... Loss: 2.1967... Val Loss: 2.1532\n",
      "Epoch: 3/20... Step: 290... Loss: 2.1618... Val Loss: 2.1261\n",
      "Epoch: 3/20... Step: 300... Loss: 2.1295... Val Loss: 2.1058\n",
      "Epoch: 3/20... Step: 310... Loss: 2.1032... Val Loss: 2.0844\n",
      "Epoch: 3/20... Step: 320... Loss: 2.0732... Val Loss: 2.0646\n",
      "Epoch: 3/20... Step: 330... Loss: 2.0453... Val Loss: 2.0449\n",
      "Epoch: 3/20... Step: 340... Loss: 2.0740... Val Loss: 2.0288\n",
      "Epoch: 3/20... Step: 350... Loss: 2.0478... Val Loss: 2.0119\n",
      "Epoch: 3/20... Step: 360... Loss: 1.9776... Val Loss: 1.9945\n",
      "Epoch: 3/20... Step: 370... Loss: 2.0079... Val Loss: 1.9746\n",
      "Epoch: 3/20... Step: 380... Loss: 1.9732... Val Loss: 1.9592\n",
      "Epoch: 3/20... Step: 390... Loss: 1.9596... Val Loss: 1.9418\n",
      "Epoch: 3/20... Step: 400... Loss: 1.9273... Val Loss: 1.9245\n",
      "Epoch: 3/20... Step: 410... Loss: 1.9353... Val Loss: 1.9156\n",
      "Epoch: 4/20... Step: 420... Loss: 1.9309... Val Loss: 1.9002\n",
      "Epoch: 4/20... Step: 430... Loss: 1.9222... Val Loss: 1.8800\n",
      "Epoch: 4/20... Step: 440... Loss: 1.9009... Val Loss: 1.8698\n",
      "Epoch: 4/20... Step: 450... Loss: 1.8478... Val Loss: 1.8532\n",
      "Epoch: 4/20... Step: 460... Loss: 1.8274... Val Loss: 1.8416\n",
      "Epoch: 4/20... Step: 470... Loss: 1.8552... Val Loss: 1.8314\n",
      "Epoch: 4/20... Step: 480... Loss: 1.8454... Val Loss: 1.8201\n",
      "Epoch: 4/20... Step: 490... Loss: 1.8363... Val Loss: 1.8048\n",
      "Epoch: 4/20... Step: 500... Loss: 1.8348... Val Loss: 1.7945\n",
      "Epoch: 4/20... Step: 510... Loss: 1.8136... Val Loss: 1.7896\n",
      "Epoch: 4/20... Step: 520... Loss: 1.8261... Val Loss: 1.7758\n",
      "Epoch: 4/20... Step: 530... Loss: 1.7818... Val Loss: 1.7679\n",
      "Epoch: 4/20... Step: 540... Loss: 1.7532... Val Loss: 1.7537\n",
      "Epoch: 4/20... Step: 550... Loss: 1.7935... Val Loss: 1.7465\n",
      "Epoch: 5/20... Step: 560... Loss: 1.7605... Val Loss: 1.7357\n",
      "Epoch: 5/20... Step: 570... Loss: 1.7499... Val Loss: 1.7256\n",
      "Epoch: 5/20... Step: 580... Loss: 1.7275... Val Loss: 1.7136\n",
      "Epoch: 5/20... Step: 590... Loss: 1.7243... Val Loss: 1.7094\n",
      "Epoch: 5/20... Step: 600... Loss: 1.7163... Val Loss: 1.6993\n",
      "Epoch: 5/20... Step: 610... Loss: 1.6941... Val Loss: 1.6928\n",
      "Epoch: 5/20... Step: 620... Loss: 1.6962... Val Loss: 1.6872\n",
      "Epoch: 5/20... Step: 630... Loss: 1.7236... Val Loss: 1.6799\n",
      "Epoch: 5/20... Step: 640... Loss: 1.6780... Val Loss: 1.6708\n",
      "Epoch: 5/20... Step: 650... Loss: 1.6788... Val Loss: 1.6649\n",
      "Epoch: 5/20... Step: 660... Loss: 1.6617... Val Loss: 1.6601\n",
      "Epoch: 5/20... Step: 670... Loss: 1.6746... Val Loss: 1.6528\n",
      "Epoch: 5/20... Step: 680... Loss: 1.6692... Val Loss: 1.6463\n",
      "Epoch: 5/20... Step: 690... Loss: 1.6462... Val Loss: 1.6384\n",
      "Epoch: 6/20... Step: 700... Loss: 1.6548... Val Loss: 1.6301\n",
      "Epoch: 6/20... Step: 710... Loss: 1.6371... Val Loss: 1.6267\n",
      "Epoch: 6/20... Step: 720... Loss: 1.6214... Val Loss: 1.6163\n",
      "Epoch: 6/20... Step: 730... Loss: 1.6392... Val Loss: 1.6131\n",
      "Epoch: 6/20... Step: 740... Loss: 1.6104... Val Loss: 1.6125\n",
      "Epoch: 6/20... Step: 750... Loss: 1.5918... Val Loss: 1.6036\n",
      "Epoch: 6/20... Step: 760... Loss: 1.6229... Val Loss: 1.6012\n",
      "Epoch: 6/20... Step: 770... Loss: 1.6105... Val Loss: 1.6037\n",
      "Epoch: 6/20... Step: 780... Loss: 1.5936... Val Loss: 1.5958\n",
      "Epoch: 6/20... Step: 790... Loss: 1.5827... Val Loss: 1.5838\n",
      "Epoch: 6/20... Step: 800... Loss: 1.5987... Val Loss: 1.5790\n",
      "Epoch: 6/20... Step: 810... Loss: 1.5819... Val Loss: 1.5741\n",
      "Epoch: 6/20... Step: 820... Loss: 1.5481... Val Loss: 1.5732\n",
      "Epoch: 6/20... Step: 830... Loss: 1.5919... Val Loss: 1.5658\n",
      "Epoch: 7/20... Step: 840... Loss: 1.5497... Val Loss: 1.5591\n",
      "Epoch: 7/20... Step: 850... Loss: 1.5604... Val Loss: 1.5580\n",
      "Epoch: 7/20... Step: 860... Loss: 1.5370... Val Loss: 1.5505\n",
      "Epoch: 7/20... Step: 870... Loss: 1.5547... Val Loss: 1.5491\n",
      "Epoch: 7/20... Step: 880... Loss: 1.5530... Val Loss: 1.5448\n",
      "Epoch: 7/20... Step: 890... Loss: 1.5513... Val Loss: 1.5412\n",
      "Epoch: 7/20... Step: 900... Loss: 1.5279... Val Loss: 1.5407\n",
      "Epoch: 7/20... Step: 910... Loss: 1.5063... Val Loss: 1.5384\n",
      "Epoch: 7/20... Step: 920... Loss: 1.5333... Val Loss: 1.5333\n",
      "Epoch: 7/20... Step: 930... Loss: 1.5152... Val Loss: 1.5259\n",
      "Epoch: 7/20... Step: 940... Loss: 1.5127... Val Loss: 1.5255\n",
      "Epoch: 7/20... Step: 950... Loss: 1.5279... Val Loss: 1.5170\n",
      "Epoch: 7/20... Step: 960... Loss: 1.5315... Val Loss: 1.5196\n",
      "Epoch: 7/20... Step: 970... Loss: 1.5284... Val Loss: 1.5135\n",
      "Epoch: 8/20... Step: 980... Loss: 1.5018... Val Loss: 1.5106\n",
      "Epoch: 8/20... Step: 990... Loss: 1.5069... Val Loss: 1.5049\n",
      "Epoch: 8/20... Step: 1000... Loss: 1.4964... Val Loss: 1.5029\n",
      "Epoch: 8/20... Step: 1010... Loss: 1.5286... Val Loss: 1.4997\n",
      "Epoch: 8/20... Step: 1020... Loss: 1.5056... Val Loss: 1.4964\n",
      "Epoch: 8/20... Step: 1030... Loss: 1.4874... Val Loss: 1.4913\n",
      "Epoch: 8/20... Step: 1040... Loss: 1.5001... Val Loss: 1.4907\n",
      "Epoch: 8/20... Step: 1050... Loss: 1.4859... Val Loss: 1.4895\n",
      "Epoch: 8/20... Step: 1060... Loss: 1.4839... Val Loss: 1.4847\n",
      "Epoch: 8/20... Step: 1070... Loss: 1.4849... Val Loss: 1.4828\n",
      "Epoch: 8/20... Step: 1080... Loss: 1.4803... Val Loss: 1.4823\n",
      "Epoch: 8/20... Step: 1090... Loss: 1.4688... Val Loss: 1.4755\n",
      "Epoch: 8/20... Step: 1100... Loss: 1.4529... Val Loss: 1.4769\n",
      "Epoch: 8/20... Step: 1110... Loss: 1.4666... Val Loss: 1.4722\n",
      "Epoch: 9/20... Step: 1120... Loss: 1.4804... Val Loss: 1.4681\n",
      "Epoch: 9/20... Step: 1130... Loss: 1.4692... Val Loss: 1.4663\n",
      "Epoch: 9/20... Step: 1140... Loss: 1.4733... Val Loss: 1.4643\n",
      "Epoch: 9/20... Step: 1150... Loss: 1.4901... Val Loss: 1.4614\n",
      "Epoch: 9/20... Step: 1160... Loss: 1.4381... Val Loss: 1.4636\n",
      "Epoch: 9/20... Step: 1170... Loss: 1.4455... Val Loss: 1.4555\n",
      "Epoch: 9/20... Step: 1180... Loss: 1.4397... Val Loss: 1.4566\n",
      "Epoch: 9/20... Step: 1190... Loss: 1.4805... Val Loss: 1.4524\n",
      "Epoch: 9/20... Step: 1200... Loss: 1.4212... Val Loss: 1.4473\n",
      "Epoch: 9/20... Step: 1210... Loss: 1.4402... Val Loss: 1.4472\n",
      "Epoch: 9/20... Step: 1220... Loss: 1.4351... Val Loss: 1.4503\n",
      "Epoch: 9/20... Step: 1230... Loss: 1.4149... Val Loss: 1.4420\n",
      "Epoch: 9/20... Step: 1240... Loss: 1.4242... Val Loss: 1.4410\n",
      "Epoch: 9/20... Step: 1250... Loss: 1.4303... Val Loss: 1.4343\n",
      "Epoch: 10/20... Step: 1260... Loss: 1.4228... Val Loss: 1.4330\n",
      "Epoch: 10/20... Step: 1270... Loss: 1.4265... Val Loss: 1.4327\n",
      "Epoch: 10/20... Step: 1280... Loss: 1.4398... Val Loss: 1.4282\n",
      "Epoch: 10/20... Step: 1290... Loss: 1.4314... Val Loss: 1.4281\n",
      "Epoch: 10/20... Step: 1300... Loss: 1.4212... Val Loss: 1.4258\n",
      "Epoch: 10/20... Step: 1310... Loss: 1.4248... Val Loss: 1.4247\n",
      "Epoch: 10/20... Step: 1320... Loss: 1.3894... Val Loss: 1.4285\n",
      "Epoch: 10/20... Step: 1330... Loss: 1.3958... Val Loss: 1.4247\n",
      "Epoch: 10/20... Step: 1340... Loss: 1.3980... Val Loss: 1.4177\n"
     ]
    },
    {
     "name": "stdout",
     "output_type": "stream",
     "text": [
      "Epoch: 10/20... Step: 1350... Loss: 1.3820... Val Loss: 1.4146\n",
      "Epoch: 10/20... Step: 1360... Loss: 1.3965... Val Loss: 1.4154\n",
      "Epoch: 10/20... Step: 1370... Loss: 1.3750... Val Loss: 1.4132\n",
      "Epoch: 10/20... Step: 1380... Loss: 1.4162... Val Loss: 1.4114\n",
      "Epoch: 10/20... Step: 1390... Loss: 1.4208... Val Loss: 1.4081\n",
      "Epoch: 11/20... Step: 1400... Loss: 1.4247... Val Loss: 1.4030\n",
      "Epoch: 11/20... Step: 1410... Loss: 1.4377... Val Loss: 1.4008\n",
      "Epoch: 11/20... Step: 1420... Loss: 1.4176... Val Loss: 1.3999\n",
      "Epoch: 11/20... Step: 1430... Loss: 1.3890... Val Loss: 1.4019\n",
      "Epoch: 11/20... Step: 1440... Loss: 1.4062... Val Loss: 1.3965\n",
      "Epoch: 11/20... Step: 1450... Loss: 1.3406... Val Loss: 1.3914\n",
      "Epoch: 11/20... Step: 1460... Loss: 1.3647... Val Loss: 1.3956\n",
      "Epoch: 11/20... Step: 1470... Loss: 1.3623... Val Loss: 1.3920\n",
      "Epoch: 11/20... Step: 1480... Loss: 1.3756... Val Loss: 1.3864\n",
      "Epoch: 11/20... Step: 1490... Loss: 1.3573... Val Loss: 1.3840\n",
      "Epoch: 11/20... Step: 1500... Loss: 1.3560... Val Loss: 1.3874\n",
      "Epoch: 11/20... Step: 1510... Loss: 1.3415... Val Loss: 1.3841\n",
      "Epoch: 11/20... Step: 1520... Loss: 1.3711... Val Loss: 1.3777\n",
      "Epoch: 12/20... Step: 1530... Loss: 1.4413... Val Loss: 1.3853\n",
      "Epoch: 12/20... Step: 1540... Loss: 1.3781... Val Loss: 1.3747\n",
      "Epoch: 12/20... Step: 1550... Loss: 1.3825... Val Loss: 1.3752\n",
      "Epoch: 12/20... Step: 1560... Loss: 1.3896... Val Loss: 1.3697\n",
      "Epoch: 12/20... Step: 1570... Loss: 1.3448... Val Loss: 1.3693\n",
      "Epoch: 12/20... Step: 1580... Loss: 1.3238... Val Loss: 1.3735\n",
      "Epoch: 12/20... Step: 1590... Loss: 1.3173... Val Loss: 1.3701\n",
      "Epoch: 12/20... Step: 1600... Loss: 1.3466... Val Loss: 1.3687\n",
      "Epoch: 12/20... Step: 1610... Loss: 1.3317... Val Loss: 1.3713\n",
      "Epoch: 12/20... Step: 1620... Loss: 1.3293... Val Loss: 1.3597\n",
      "Epoch: 12/20... Step: 1630... Loss: 1.3549... Val Loss: 1.3642\n",
      "Epoch: 12/20... Step: 1640... Loss: 1.3354... Val Loss: 1.3645\n",
      "Epoch: 12/20... Step: 1650... Loss: 1.3057... Val Loss: 1.3583\n",
      "Epoch: 12/20... Step: 1660... Loss: 1.3589... Val Loss: 1.3561\n",
      "Epoch: 13/20... Step: 1670... Loss: 1.3326... Val Loss: 1.3613\n",
      "Epoch: 13/20... Step: 1680... Loss: 1.3474... Val Loss: 1.3564\n",
      "Epoch: 13/20... Step: 1690... Loss: 1.3176... Val Loss: 1.3547\n",
      "Epoch: 13/20... Step: 1700... Loss: 1.3288... Val Loss: 1.3479\n",
      "Epoch: 13/20... Step: 1710... Loss: 1.2983... Val Loss: 1.3538\n",
      "Epoch: 13/20... Step: 1720... Loss: 1.3118... Val Loss: 1.3522\n",
      "Epoch: 13/20... Step: 1730... Loss: 1.3485... Val Loss: 1.3486\n",
      "Epoch: 13/20... Step: 1740... Loss: 1.3091... Val Loss: 1.3472\n",
      "Epoch: 13/20... Step: 1750... Loss: 1.2741... Val Loss: 1.3461\n",
      "Epoch: 13/20... Step: 1760... Loss: 1.3100... Val Loss: 1.3404\n",
      "Epoch: 13/20... Step: 1770... Loss: 1.3246... Val Loss: 1.3401\n",
      "Epoch: 13/20... Step: 1780... Loss: 1.2957... Val Loss: 1.3456\n",
      "Epoch: 13/20... Step: 1790... Loss: 1.2924... Val Loss: 1.3428\n",
      "Epoch: 13/20... Step: 1800... Loss: 1.3147... Val Loss: 1.3467\n",
      "Epoch: 14/20... Step: 1810... Loss: 1.3129... Val Loss: 1.3513\n",
      "Epoch: 14/20... Step: 1820... Loss: 1.3050... Val Loss: 1.3387\n",
      "Epoch: 14/20... Step: 1830... Loss: 1.3254... Val Loss: 1.3347\n",
      "Epoch: 14/20... Step: 1840... Loss: 1.2721... Val Loss: 1.3437\n",
      "Epoch: 14/20... Step: 1850... Loss: 1.2534... Val Loss: 1.3397\n",
      "Epoch: 14/20... Step: 1860... Loss: 1.3050... Val Loss: 1.3373\n",
      "Epoch: 14/20... Step: 1870... Loss: 1.3244... Val Loss: 1.3308\n",
      "Epoch: 14/20... Step: 1880... Loss: 1.2980... Val Loss: 1.3320\n",
      "Epoch: 14/20... Step: 1890... Loss: 1.3237... Val Loss: 1.3354\n",
      "Epoch: 14/20... Step: 1900... Loss: 1.3036... Val Loss: 1.3288\n",
      "Epoch: 14/20... Step: 1910... Loss: 1.2935... Val Loss: 1.3253\n",
      "Epoch: 14/20... Step: 1920... Loss: 1.2924... Val Loss: 1.3275\n",
      "Epoch: 14/20... Step: 1930... Loss: 1.2604... Val Loss: 1.3296\n",
      "Epoch: 14/20... Step: 1940... Loss: 1.3193... Val Loss: 1.3274\n",
      "Epoch: 15/20... Step: 1950... Loss: 1.2899... Val Loss: 1.3304\n",
      "Epoch: 15/20... Step: 1960... Loss: 1.2947... Val Loss: 1.3226\n",
      "Epoch: 15/20... Step: 1970... Loss: 1.2761... Val Loss: 1.3212\n",
      "Epoch: 15/20... Step: 1980... Loss: 1.2772... Val Loss: 1.3242\n",
      "Epoch: 15/20... Step: 1990... Loss: 1.2736... Val Loss: 1.3243\n",
      "Epoch: 15/20... Step: 2000... Loss: 1.2657... Val Loss: 1.3203\n",
      "Epoch: 15/20... Step: 2010... Loss: 1.2801... Val Loss: 1.3141\n",
      "Epoch: 15/20... Step: 2020... Loss: 1.2955... Val Loss: 1.3148\n",
      "Epoch: 15/20... Step: 2030... Loss: 1.2749... Val Loss: 1.3225\n",
      "Epoch: 15/20... Step: 2040... Loss: 1.2876... Val Loss: 1.3161\n",
      "Epoch: 15/20... Step: 2050... Loss: 1.2658... Val Loss: 1.3186\n",
      "Epoch: 15/20... Step: 2060... Loss: 1.2753... Val Loss: 1.3172\n",
      "Epoch: 15/20... Step: 2070... Loss: 1.2787... Val Loss: 1.3153\n",
      "Epoch: 15/20... Step: 2080... Loss: 1.2694... Val Loss: 1.3126\n",
      "Epoch: 16/20... Step: 2090... Loss: 1.2846... Val Loss: 1.3141\n",
      "Epoch: 16/20... Step: 2100... Loss: 1.2624... Val Loss: 1.3124\n",
      "Epoch: 16/20... Step: 2110... Loss: 1.2579... Val Loss: 1.3094\n",
      "Epoch: 16/20... Step: 2120... Loss: 1.2687... Val Loss: 1.3136\n",
      "Epoch: 16/20... Step: 2130... Loss: 1.2427... Val Loss: 1.3175\n",
      "Epoch: 16/20... Step: 2140... Loss: 1.2539... Val Loss: 1.3122\n",
      "Epoch: 16/20... Step: 2150... Loss: 1.2840... Val Loss: 1.3118\n",
      "Epoch: 16/20... Step: 2160... Loss: 1.2593... Val Loss: 1.3149\n",
      "Epoch: 16/20... Step: 2170... Loss: 1.2524... Val Loss: 1.3148\n",
      "Epoch: 16/20... Step: 2180... Loss: 1.2586... Val Loss: 1.3094\n",
      "Epoch: 16/20... Step: 2190... Loss: 1.2786... Val Loss: 1.3096\n",
      "Epoch: 16/20... Step: 2200... Loss: 1.2499... Val Loss: 1.3061\n",
      "Epoch: 16/20... Step: 2210... Loss: 1.2131... Val Loss: 1.3078\n",
      "Epoch: 16/20... Step: 2220... Loss: 1.2680... Val Loss: 1.3073\n",
      "Epoch: 17/20... Step: 2230... Loss: 1.2519... Val Loss: 1.3055\n",
      "Epoch: 17/20... Step: 2240... Loss: 1.2495... Val Loss: 1.2968\n",
      "Epoch: 17/20... Step: 2250... Loss: 1.2375... Val Loss: 1.2958\n",
      "Epoch: 17/20... Step: 2260... Loss: 1.2396... Val Loss: 1.2991\n",
      "Epoch: 17/20... Step: 2270... Loss: 1.2563... Val Loss: 1.3027\n",
      "Epoch: 17/20... Step: 2280... Loss: 1.2713... Val Loss: 1.2954\n",
      "Epoch: 17/20... Step: 2290... Loss: 1.2642... Val Loss: 1.3016\n",
      "Epoch: 17/20... Step: 2300... Loss: 1.2206... Val Loss: 1.3008\n",
      "Epoch: 17/20... Step: 2310... Loss: 1.2436... Val Loss: 1.3019\n",
      "Epoch: 17/20... Step: 2320... Loss: 1.2383... Val Loss: 1.2945\n",
      "Epoch: 17/20... Step: 2330... Loss: 1.2397... Val Loss: 1.2924\n",
      "Epoch: 17/20... Step: 2340... Loss: 1.2523... Val Loss: 1.2926\n",
      "Epoch: 17/20... Step: 2350... Loss: 1.2559... Val Loss: 1.2928\n",
      "Epoch: 17/20... Step: 2360... Loss: 1.2620... Val Loss: 1.2946\n",
      "Epoch: 18/20... Step: 2370... Loss: 1.2373... Val Loss: 1.2908\n",
      "Epoch: 18/20... Step: 2380... Loss: 1.2290... Val Loss: 1.2874\n",
      "Epoch: 18/20... Step: 2390... Loss: 1.2399... Val Loss: 1.2914\n",
      "Epoch: 18/20... Step: 2400... Loss: 1.2609... Val Loss: 1.2892\n",
      "Epoch: 18/20... Step: 2410... Loss: 1.2574... Val Loss: 1.2925\n",
      "Epoch: 18/20... Step: 2420... Loss: 1.2299... Val Loss: 1.2910\n",
      "Epoch: 18/20... Step: 2430... Loss: 1.2398... Val Loss: 1.2919\n",
      "Epoch: 18/20... Step: 2440... Loss: 1.2237... Val Loss: 1.2929\n",
      "Epoch: 18/20... Step: 2450... Loss: 1.2205... Val Loss: 1.2938\n",
      "Epoch: 18/20... Step: 2460... Loss: 1.2386... Val Loss: 1.2885\n",
      "Epoch: 18/20... Step: 2470... Loss: 1.2301... Val Loss: 1.2900\n",
      "Epoch: 18/20... Step: 2480... Loss: 1.2166... Val Loss: 1.2897\n",
      "Epoch: 18/20... Step: 2490... Loss: 1.2188... Val Loss: 1.2861\n",
      "Epoch: 18/20... Step: 2500... Loss: 1.2356... Val Loss: 1.2883\n",
      "Epoch: 19/20... Step: 2510... Loss: 1.2339... Val Loss: 1.2884\n",
      "Epoch: 19/20... Step: 2520... Loss: 1.2468... Val Loss: 1.2814\n",
      "Epoch: 19/20... Step: 2530... Loss: 1.2366... Val Loss: 1.2835\n",
      "Epoch: 19/20... Step: 2540... Loss: 1.2547... Val Loss: 1.2807\n",
      "Epoch: 19/20... Step: 2550... Loss: 1.2180... Val Loss: 1.2834\n",
      "Epoch: 19/20... Step: 2560... Loss: 1.2301... Val Loss: 1.2791\n",
      "Epoch: 19/20... Step: 2570... Loss: 1.2203... Val Loss: 1.2796\n",
      "Epoch: 19/20... Step: 2580... Loss: 1.2576... Val Loss: 1.2820\n",
      "Epoch: 19/20... Step: 2590... Loss: 1.2147... Val Loss: 1.2830\n",
      "Epoch: 19/20... Step: 2600... Loss: 1.2226... Val Loss: 1.2803\n",
      "Epoch: 19/20... Step: 2610... Loss: 1.2258... Val Loss: 1.2829\n",
      "Epoch: 19/20... Step: 2620... Loss: 1.2032... Val Loss: 1.2770\n",
      "Epoch: 19/20... Step: 2630... Loss: 1.2057... Val Loss: 1.2790\n",
      "Epoch: 19/20... Step: 2640... Loss: 1.2243... Val Loss: 1.2766\n",
      "Epoch: 20/20... Step: 2650... Loss: 1.2229... Val Loss: 1.2776\n"
     ]
    },
    {
     "name": "stdout",
     "output_type": "stream",
     "text": [
      "Epoch: 20/20... Step: 2660... Loss: 1.2216... Val Loss: 1.2770\n",
      "Epoch: 20/20... Step: 2670... Loss: 1.2306... Val Loss: 1.2753\n",
      "Epoch: 20/20... Step: 2680... Loss: 1.2232... Val Loss: 1.2728\n",
      "Epoch: 20/20... Step: 2690... Loss: 1.2171... Val Loss: 1.2781\n",
      "Epoch: 20/20... Step: 2700... Loss: 1.2324... Val Loss: 1.2735\n",
      "Epoch: 20/20... Step: 2710... Loss: 1.1978... Val Loss: 1.2738\n",
      "Epoch: 20/20... Step: 2720... Loss: 1.1879... Val Loss: 1.2762\n",
      "Epoch: 20/20... Step: 2730... Loss: 1.1856... Val Loss: 1.2751\n",
      "Epoch: 20/20... Step: 2740... Loss: 1.1876... Val Loss: 1.2796\n",
      "Epoch: 20/20... Step: 2750... Loss: 1.1984... Val Loss: 1.2808\n",
      "Epoch: 20/20... Step: 2760... Loss: 1.1986... Val Loss: 1.2694\n",
      "Epoch: 20/20... Step: 2770... Loss: 1.2235... Val Loss: 1.2698\n",
      "Epoch: 20/20... Step: 2780... Loss: 1.2462... Val Loss: 1.2694\n"
     ]
    }
   ],
   "source": [
    "batch_size = 128\n",
    "seq_length = 100\n",
    "n_epochs = 20 # start small if you are just testing initial behavior\n",
    "\n",
    "# train the model\n",
    "train(net, encoded, epochs=n_epochs, batch_size=batch_size, seq_length=seq_length, lr=0.001, print_every=10)"
   ]
  },
  {
   "cell_type": "markdown",
   "metadata": {},
   "source": [
    "## Getting the best model\n",
    "\n",
    "To set your hyperparameters to get the best performance, you'll want to watch the training and validation losses. If your training loss is much lower than the validation loss, you're overfitting. Increase regularization (more dropout) or use a smaller network. If the training and validation losses are close, you're underfitting so you can increase the size of the network."
   ]
  },
  {
   "cell_type": "markdown",
   "metadata": {},
   "source": [
    "## Hyperparameters\n",
    "\n",
    "Here are the hyperparameters for the network.\n",
    "\n",
    "In defining the model:\n",
    "* `n_hidden` - The number of units in the hidden layers.\n",
    "* `n_layers` - Number of hidden LSTM layers to use.\n",
    "\n",
    "We assume that dropout probability and learning rate will be kept at the default, in this example.\n",
    "\n",
    "And in training:\n",
    "* `batch_size` - Number of sequences running through the network in one pass.\n",
    "* `seq_length` - Number of characters in the sequence the network is trained on. Larger is better typically, the network will learn more long range dependencies. But it takes longer to train. 100 is typically a good number here.\n",
    "* `lr` - Learning rate for training\n",
    "\n",
    "Here's some good advice from Andrej Karpathy on training the network. I'm going to copy it in here for your benefit, but also link to [where it originally came from](https://github.com/karpathy/char-rnn#tips-and-tricks).\n",
    "\n",
    "> ## Tips and Tricks\n",
    "\n",
    ">### Monitoring Validation Loss vs. Training Loss\n",
    ">If you're somewhat new to Machine Learning or Neural Networks it can take a bit of expertise to get good models. The most important quantity to keep track of is the difference between your training loss (printed during training) and the validation loss (printed once in a while when the RNN is run on the validation data (by default every 1000 iterations)). In particular:\n",
    "\n",
    "> - If your training loss is much lower than validation loss then this means the network might be **overfitting**. Solutions to this are to decrease your network size, or to increase dropout. For example you could try dropout of 0.5 and so on.\n",
    "> - If your training/validation loss are about equal then your model is **underfitting**. Increase the size of your model (either number of layers or the raw number of neurons per layer)\n",
    "\n",
    "> ### Approximate number of parameters\n",
    "\n",
    "> The two most important parameters that control the model are `n_hidden` and `n_layers`. I would advise that you always use `n_layers` of either 2/3. The `n_hidden` can be adjusted based on how much data you have. The two important quantities to keep track of here are:\n",
    "\n",
    "> - The number of parameters in your model. This is printed when you start training.\n",
    "> - The size of your dataset. 1MB file is approximately 1 million characters.\n",
    "\n",
    ">These two should be about the same order of magnitude. It's a little tricky to tell. Here are some examples:\n",
    "\n",
    "> - I have a 100MB dataset and I'm using the default parameter settings (which currently print 150K parameters). My data size is significantly larger (100 mil >> 0.15 mil), so I expect to heavily underfit. I am thinking I can comfortably afford to make `n_hidden` larger.\n",
    "> - I have a 10MB dataset and running a 10 million parameter model. I'm slightly nervous and I'm carefully monitoring my validation loss. If it's larger than my training loss then I may want to try to increase dropout a bit and see if that helps the validation loss.\n",
    "\n",
    "> ### Best models strategy\n",
    "\n",
    ">The winning strategy to obtaining very good models (if you have the compute time) is to always err on making the network larger (as large as you're willing to wait for it to compute) and then try different dropout values (between 0,1). Whatever model has the best validation performance (the loss, written in the checkpoint filename, low is good) is the one you should use in the end.\n",
    "\n",
    ">It is very common in deep learning to run many different models with many different hyperparameter settings, and in the end take whatever checkpoint gave the best validation performance.\n",
    "\n",
    ">By the way, the size of your training and validation splits are also parameters. Make sure you have a decent amount of data in your validation set or otherwise the validation performance will be noisy and not very informative."
   ]
  },
  {
   "cell_type": "markdown",
   "metadata": {},
   "source": [
    "## Checkpoint\n",
    "\n",
    "After training, we'll save the model so we can load it again later if we need too. Here I'm saving the parameters needed to create the same architecture, the hidden layer hyperparameters and the text characters."
   ]
  },
  {
   "cell_type": "code",
   "execution_count": 108,
   "metadata": {},
   "outputs": [],
   "source": [
    "# change the name, for saving multiple files\n",
    "model_name = 'rnn_x_epoch.net'\n",
    "\n",
    "checkpoint = {'n_hidden': net.n_hidden,\n",
    "              'n_layers': net.n_layers,\n",
    "              'state_dict': net.state_dict(),\n",
    "              'tokens': net.chars}\n",
    "\n",
    "with open(model_name, 'wb') as f:\n",
    "    torch.save(checkpoint, f)"
   ]
  },
  {
   "cell_type": "markdown",
   "metadata": {},
   "source": [
    "---\n",
    "## Making Predictions\n",
    "\n",
    "Now that the model is trained, we'll want to sample from it and make predictions about next characters! To sample, we pass in a character and have the network predict the next character. Then we take that character, pass it back in, and get another predicted character. Just keep doing this and you'll generate a bunch of text!\n",
    "\n",
    "### A note on the `predict`  function\n",
    "\n",
    "The output of our RNN is from a fully-connected layer and it outputs a **distribution of next-character scores**.\n",
    "\n",
    "> To actually get the next character, we apply a softmax function, which gives us a *probability* distribution that we can then sample to predict the next character.\n",
    "\n",
    "### Top K sampling\n",
    "\n",
    "Our predictions come from a categorical probability distribution over all the possible characters. We can make the sample text and make it more reasonable to handle (with less variables) by only considering some $K$ most probable characters. This will prevent the network from giving us completely absurd characters while allowing it to introduce some noise and randomness into the sampled text. Read more about [topk, here](https://pytorch.org/docs/stable/torch.html#torch.topk).\n"
   ]
  },
  {
   "cell_type": "code",
   "execution_count": 109,
   "metadata": {},
   "outputs": [],
   "source": [
    "def predict(net, char, h=None, top_k=None):\n",
    "        ''' Given a character, predict the next character.\n",
    "            Returns the predicted character and the hidden state.\n",
    "        '''\n",
    "        \n",
    "        # tensor inputs\n",
    "        x = np.array([[net.char2int[char]]])\n",
    "        x = one_hot_encode(x, len(net.chars))\n",
    "        inputs = torch.from_numpy(x)\n",
    "        \n",
    "        if(train_on_gpu):\n",
    "            inputs = inputs.cuda()\n",
    "        \n",
    "        # detach hidden state from history\n",
    "        h = tuple([each.data for each in h])\n",
    "        # get the output of the model\n",
    "        out, h = net(inputs, h)\n",
    "\n",
    "        # get the character probabilities\n",
    "        p = F.softmax(out, dim=1).data\n",
    "        if(train_on_gpu):\n",
    "            p = p.cpu() # move to cpu\n",
    "        \n",
    "        # get top characters\n",
    "        if top_k is None:\n",
    "            top_ch = np.arange(len(net.chars))\n",
    "        else:\n",
    "            p, top_ch = p.topk(top_k)\n",
    "            top_ch = top_ch.numpy().squeeze()\n",
    "        \n",
    "        # select the likely next character with some element of randomness\n",
    "        p = p.numpy().squeeze()\n",
    "        char = np.random.choice(top_ch, p=p/p.sum())\n",
    "        \n",
    "        # return the encoded value of the predicted char and the hidden state\n",
    "        return net.int2char[char], h"
   ]
  },
  {
   "cell_type": "markdown",
   "metadata": {},
   "source": [
    "### Priming and generating text \n",
    "\n",
    "Typically you'll want to prime the network so you can build up a hidden state. Otherwise the network will start out generating characters at random. In general the first bunch of characters will be a little rough since it hasn't built up a long history of characters to predict from."
   ]
  },
  {
   "cell_type": "code",
   "execution_count": 110,
   "metadata": {},
   "outputs": [],
   "source": [
    "def sample(net, size, prime='The', top_k=None):\n",
    "        \n",
    "    if(train_on_gpu):\n",
    "        net.cuda()\n",
    "    else:\n",
    "        net.cpu()\n",
    "    \n",
    "    net.eval() # eval mode\n",
    "    \n",
    "    # First off, run through the prime characters\n",
    "    chars = [ch for ch in prime]\n",
    "    h = net.init_hidden(1)\n",
    "    for ch in prime:\n",
    "        char, h = predict(net, ch, h, top_k=top_k)\n",
    "\n",
    "    chars.append(char)\n",
    "    \n",
    "    # Now pass in the previous character and get a new one\n",
    "    for ii in range(size):\n",
    "        char, h = predict(net, chars[-1], h, top_k=top_k)\n",
    "        chars.append(char)\n",
    "\n",
    "    return ''.join(chars)"
   ]
  },
  {
   "cell_type": "code",
   "execution_count": 111,
   "metadata": {},
   "outputs": [
    {
     "name": "stdout",
     "output_type": "stream",
     "text": [
      "Anna\n",
      "had stepped over the child of the provise. The porter\n",
      "was an interests, and thrieking it to him. There were a long wife,\n",
      "who heard their standing-resolute committee. And the most of this woman was\n",
      "the cruck, bringing to settles and sud arrectly the freedon,\n",
      "stifling hardly, that he could not be taken at the station there would\n",
      "not be so than, and all this sound of that hay of the faces was an official friends\n",
      "that his face had to be forgivened to him. Her love high said:\n",
      "\n",
      "\"Yes, I have noticed it,\" answered Levin, and saw that the courte of\n",
      "the carriage and working who had basked or hos for their first to\n",
      "be done. They could not both a sproch of the potition of the\n",
      "race. But whatever we say that the same too said the\n",
      "cheems. As a pockets of the stand to a second time they and her sister,\n",
      "though it could not stor where it was is at ounden before her sort, but\n",
      "a coupart crack of the same. Some ore oreraining to his whetched.\n",
      "\n",
      "\"Ah, all at all at once, I have been surprised?\"\n",
      "\n",
      "Althoure, as \n"
     ]
    }
   ],
   "source": [
    "print(sample(net, 1000, prime='Anna', top_k=5))"
   ]
  },
  {
   "cell_type": "markdown",
   "metadata": {},
   "source": [
    "## Loading a checkpoint"
   ]
  },
  {
   "cell_type": "code",
   "execution_count": 112,
   "metadata": {},
   "outputs": [],
   "source": [
    "# Here we have loaded in a model that trained over 20 epochs `rnn_20_epoch.net`\n",
    "with open('rnn_x_epoch.net', 'rb') as f:\n",
    "    checkpoint = torch.load(f)\n",
    "    \n",
    "loaded = CharRNN(checkpoint['tokens'], n_hidden=checkpoint['n_hidden'], n_layers=checkpoint['n_layers'])\n",
    "loaded.load_state_dict(checkpoint['state_dict'])"
   ]
  },
  {
   "cell_type": "code",
   "execution_count": 117,
   "metadata": {},
   "outputs": [
    {
     "name": "stdout",
     "output_type": "stream",
     "text": [
      "At once marriage.\n",
      "\n",
      "She spoke that, strengthen shining to him, and there was not a sister\n",
      "and had stimply telling himself in with him and that the commission had\n",
      "suffered and storting the countess. All the four of together had\n",
      "taken up out, his chair, had stricken out of such as a long seciety. He\n",
      "was taken away his father's, but all the contemptuous consciations with\n",
      "the merishing place that would have thinking to all the footmins. This\n",
      "weadings and whose peculiarity of halittated, had timed to hear a certain\n",
      "as to her.\n",
      "\n",
      "\"Yes. He were so matter.\" She was already tried. She saw her as to\n",
      "be done with her strange tone. There was all asked the day, that it\n",
      "canche the sound of a station of the careful and a love and son.\n",
      "\n",
      "Anna had not taken off him; but she would have all the cheek of the place\n",
      "of the same and\n",
      "an one something of the child, together he should show\n",
      "a painfus over the positive forts, and that when he was not felt\n",
      "an official for strange of his fine and him. He felt this, and\n",
      "though, to be a position, he sat down again that she had\n",
      "never so speaking of the marshal., and a chair was to see her, but\n",
      "he had been to deceiv to the door and seeing the children's arrital to her,\n",
      "and the still course women-for the meanousish of the presence of the\n",
      "mides of the faces that she had all the parts of a still of them.\n",
      "\n",
      "\"Tend that is in the sinn, and I have the crowd and his brither, had\n",
      "become married to make a settle of the stell of the same time it is a complete\n",
      "stream. He soon not take the minute and some man and a position of a part\n",
      "that was since is that he meant to say about the feeling and his hands\n",
      "to the people and as a chorese than the colonel, and ask her all the\n",
      "pitious form of the same to the same too, and she were all to be sure,\n",
      "and to delight it as she did, there were silent, sitted on which she can't\n",
      "believe, I don't know it, I say to me was not a man as your cerean\n",
      "of the paper and the peasants.\"\n",
      "\n",
      "\"Then he has seen it instatated the carriage. In the coats were\n"
     ]
    }
   ],
   "source": [
    "# Sample using a loaded model\n",
    "print(sample(loaded, 2000, top_k=5, prime=\"At once\"))"
   ]
  },
  {
   "cell_type": "code",
   "execution_count": null,
   "metadata": {},
   "outputs": [],
   "source": []
  }
 ],
 "metadata": {
  "kernelspec": {
   "display_name": "Python 3",
   "language": "python",
   "name": "python3"
  },
  "language_info": {
   "codemirror_mode": {
    "name": "ipython",
    "version": 3
   },
   "file_extension": ".py",
   "mimetype": "text/x-python",
   "name": "python",
   "nbconvert_exporter": "python",
   "pygments_lexer": "ipython3",
   "version": "3.6.3"
  }
 },
 "nbformat": 4,
 "nbformat_minor": 2
}
